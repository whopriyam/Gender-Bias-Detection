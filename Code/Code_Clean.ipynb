{
 "cells": [
  {
   "cell_type": "code",
   "execution_count": 11,
   "metadata": {},
   "outputs": [
    {
     "name": "stdout",
     "output_type": "stream",
     "text": [
      "Code_Clean.ipynb                    Scraping_Tweets_With_Comments.ipynb\r\n",
      "\u001b[34mModels\u001b[m\u001b[m                              Tweets_Scraper.ipynb\r\n"
     ]
    }
   ],
   "source": [
    "!ls"
   ]
  },
  {
   "cell_type": "code",
   "execution_count": 27,
   "metadata": {},
   "outputs": [
    {
     "data": {
      "text/html": [
       "<div>\n",
       "<style scoped>\n",
       "    .dataframe tbody tr th:only-of-type {\n",
       "        vertical-align: middle;\n",
       "    }\n",
       "\n",
       "    .dataframe tbody tr th {\n",
       "        vertical-align: top;\n",
       "    }\n",
       "\n",
       "    .dataframe thead th {\n",
       "        text-align: right;\n",
       "    }\n",
       "</style>\n",
       "<table border=\"1\" class=\"dataframe\">\n",
       "  <thead>\n",
       "    <tr style=\"text-align: right;\">\n",
       "      <th></th>\n",
       "      <th>Text</th>\n",
       "      <th>Label</th>\n",
       "    </tr>\n",
       "  </thead>\n",
       "  <tbody>\n",
       "    <tr>\n",
       "      <th>0</th>\n",
       "      <td>She calls herself \"anti-feminazi\" how about sh...</td>\n",
       "      <td>sexist</td>\n",
       "    </tr>\n",
       "    <tr>\n",
       "      <th>1</th>\n",
       "      <td>@CurvyBandida @Xalynne_B Wow, your skirt is ve...</td>\n",
       "      <td>sexist</td>\n",
       "    </tr>\n",
       "    <tr>\n",
       "      <th>2</th>\n",
       "      <td>@Smithcouple971 Hello....m raj....m with good ...</td>\n",
       "      <td>sexist</td>\n",
       "    </tr>\n",
       "    <tr>\n",
       "      <th>3</th>\n",
       "      <td>@hapyshoper79 @Dis_Critic @MairiJCam @cazadams...</td>\n",
       "      <td>sexist</td>\n",
       "    </tr>\n",
       "    <tr>\n",
       "      <th>4</th>\n",
       "      <td>@Ponderer_O_Purg @BynameRose @GameOverRos @nat...</td>\n",
       "      <td>sexist</td>\n",
       "    </tr>\n",
       "    <tr>\n",
       "      <th>5</th>\n",
       "      <td>I really just want to be rich  but not trophy ...</td>\n",
       "      <td>sexist</td>\n",
       "    </tr>\n",
       "    <tr>\n",
       "      <th>6</th>\n",
       "      <td>@martybeckerman @ne0liberal This feels like a ...</td>\n",
       "      <td>sexist</td>\n",
       "    </tr>\n",
       "    <tr>\n",
       "      <th>7</th>\n",
       "      <td>Bitches be begging me to fw them just to give ...</td>\n",
       "      <td>sexist</td>\n",
       "    </tr>\n",
       "    <tr>\n",
       "      <th>8</th>\n",
       "      <td>@UnaryUnicorn @sullydish @iamcuriousblue @fras...</td>\n",
       "      <td>sexist</td>\n",
       "    </tr>\n",
       "    <tr>\n",
       "      <th>9</th>\n",
       "      <td>@CynthiaCoxTO You're a Beautiful Woman with a ...</td>\n",
       "      <td>sexist</td>\n",
       "    </tr>\n",
       "  </tbody>\n",
       "</table>\n",
       "</div>"
      ],
      "text/plain": [
       "                                                Text   Label\n",
       "0  She calls herself \"anti-feminazi\" how about sh...  sexist\n",
       "1  @CurvyBandida @Xalynne_B Wow, your skirt is ve...  sexist\n",
       "2  @Smithcouple971 Hello....m raj....m with good ...  sexist\n",
       "3  @hapyshoper79 @Dis_Critic @MairiJCam @cazadams...  sexist\n",
       "4  @Ponderer_O_Purg @BynameRose @GameOverRos @nat...  sexist\n",
       "5  I really just want to be rich  but not trophy ...  sexist\n",
       "6  @martybeckerman @ne0liberal This feels like a ...  sexist\n",
       "7  Bitches be begging me to fw them just to give ...  sexist\n",
       "8  @UnaryUnicorn @sullydish @iamcuriousblue @fras...  sexist\n",
       "9  @CynthiaCoxTO You're a Beautiful Woman with a ...  sexist"
      ]
     },
     "execution_count": 27,
     "metadata": {},
     "output_type": "execute_result"
    }
   ],
   "source": [
    "import pandas as pd\n",
    "import numpy as np\n",
    "df = pd.read_csv(\"../Data/Original_Data/Data_3.csv\")\n",
    "df.head(10)"
   ]
  },
  {
   "cell_type": "code",
   "execution_count": 33,
   "metadata": {},
   "outputs": [
    {
     "data": {
      "text/plain": [
       "\"\\nfrom sklearn.preprocessing import LabelEncoder\\n# creating initial dataframe\\nlabels = ('non-sexist','sexist')\\n#df = pd.DataFrame(labels, columns=['Label'])\\n# creating instance of labelencoder\\nlabelencoder = LabelEncoder()\\n# Assigning numerical values and storing in another column\\ndf['Labels'] = labelencoder.fit_transform(df['Label'])\\ndel df['Label']\\n\\n   \\ndf.rename(columns = {'Labels':'Label'}, inplace = True)\\n\\ndf.head(45)\\n\""
      ]
     },
     "execution_count": 33,
     "metadata": {},
     "output_type": "execute_result"
    }
   ],
   "source": [
    "'''\n",
    "from sklearn.preprocessing import LabelEncoder\n",
    "# creating initial dataframe\n",
    "labels = ('non-sexist','sexist')\n",
    "#df = pd.DataFrame(labels, columns=['Label'])\n",
    "# creating instance of labelencoder\n",
    "labelencoder = LabelEncoder()\n",
    "# Assigning numerical values and storing in another column\n",
    "df['Labels'] = labelencoder.fit_transform(df['Label'])\n",
    "del df['Label']\n",
    "\n",
    "   \n",
    "df.rename(columns = {'Labels':'Label'}, inplace = True)\n",
    "\n",
    "df.head(45)\n",
    "'''"
   ]
  },
  {
   "cell_type": "code",
   "execution_count": 29,
   "metadata": {},
   "outputs": [],
   "source": [
    "c= 0\n",
    "for i in df.index:\n",
    "    text = df.at[i,'Text']\n",
    "    text = \" \".join(filter(lambda x:x[0]!='@', text.split()))\n",
    "    text = ' '.join(x for x in text.split() if not x.startswith('RT'))\n",
    "    text = ' '.join(x for x in text.split() if not x.startswith('https'))\n",
    "    \n",
    "    df.at[i,'Text'] = text"
   ]
  },
  {
   "cell_type": "code",
   "execution_count": 30,
   "metadata": {},
   "outputs": [
    {
     "data": {
      "text/html": [
       "<div>\n",
       "<style scoped>\n",
       "    .dataframe tbody tr th:only-of-type {\n",
       "        vertical-align: middle;\n",
       "    }\n",
       "\n",
       "    .dataframe tbody tr th {\n",
       "        vertical-align: top;\n",
       "    }\n",
       "\n",
       "    .dataframe thead th {\n",
       "        text-align: right;\n",
       "    }\n",
       "</style>\n",
       "<table border=\"1\" class=\"dataframe\">\n",
       "  <thead>\n",
       "    <tr style=\"text-align: right;\">\n",
       "      <th></th>\n",
       "      <th>Text</th>\n",
       "      <th>Label</th>\n",
       "    </tr>\n",
       "  </thead>\n",
       "  <tbody>\n",
       "    <tr>\n",
       "      <th>0</th>\n",
       "      <td>She calls herself \"anti-feminazi\" how about sh...</td>\n",
       "      <td>1</td>\n",
       "    </tr>\n",
       "    <tr>\n",
       "      <th>1</th>\n",
       "      <td>Wow, your skirt is very short. What is it's le...</td>\n",
       "      <td>1</td>\n",
       "    </tr>\n",
       "    <tr>\n",
       "      <th>2</th>\n",
       "      <td>Hello....m raj....m with good size and excelle...</td>\n",
       "      <td>1</td>\n",
       "    </tr>\n",
       "    <tr>\n",
       "      <th>3</th>\n",
       "      <td>You weren't actually what?This is not a painte...</td>\n",
       "      <td>1</td>\n",
       "    </tr>\n",
       "    <tr>\n",
       "      <th>4</th>\n",
       "      <td>I don't know any feminists who think the way y...</td>\n",
       "      <td>1</td>\n",
       "    </tr>\n",
       "    <tr>\n",
       "      <th>5</th>\n",
       "      <td>I really just want to be rich but not trophy w...</td>\n",
       "      <td>1</td>\n",
       "    </tr>\n",
       "    <tr>\n",
       "      <th>6</th>\n",
       "      <td>This feels like a cold take on the surface, bu...</td>\n",
       "      <td>1</td>\n",
       "    </tr>\n",
       "    <tr>\n",
       "      <th>7</th>\n",
       "      <td>Bitches be begging me to fw them just to give ...</td>\n",
       "      <td>1</td>\n",
       "    </tr>\n",
       "    <tr>\n",
       "      <th>8</th>\n",
       "      <td>I’m going to start demanding that hot lesbians...</td>\n",
       "      <td>1</td>\n",
       "    </tr>\n",
       "    <tr>\n",
       "      <th>9</th>\n",
       "      <td>You're a Beautiful Woman with a Beautiful Hear...</td>\n",
       "      <td>1</td>\n",
       "    </tr>\n",
       "  </tbody>\n",
       "</table>\n",
       "</div>"
      ],
      "text/plain": [
       "                                                Text  Label\n",
       "0  She calls herself \"anti-feminazi\" how about sh...      1\n",
       "1  Wow, your skirt is very short. What is it's le...      1\n",
       "2  Hello....m raj....m with good size and excelle...      1\n",
       "3  You weren't actually what?This is not a painte...      1\n",
       "4  I don't know any feminists who think the way y...      1\n",
       "5  I really just want to be rich but not trophy w...      1\n",
       "6  This feels like a cold take on the surface, bu...      1\n",
       "7  Bitches be begging me to fw them just to give ...      1\n",
       "8  I’m going to start demanding that hot lesbians...      1\n",
       "9  You're a Beautiful Woman with a Beautiful Hear...      1"
      ]
     },
     "execution_count": 30,
     "metadata": {},
     "output_type": "execute_result"
    }
   ],
   "source": [
    "df.head(10)"
   ]
  },
  {
   "cell_type": "code",
   "execution_count": 31,
   "metadata": {},
   "outputs": [
    {
     "data": {
      "text/html": [
       "<div>\n",
       "<style scoped>\n",
       "    .dataframe tbody tr th:only-of-type {\n",
       "        vertical-align: middle;\n",
       "    }\n",
       "\n",
       "    .dataframe tbody tr th {\n",
       "        vertical-align: top;\n",
       "    }\n",
       "\n",
       "    .dataframe thead th {\n",
       "        text-align: right;\n",
       "    }\n",
       "</style>\n",
       "<table border=\"1\" class=\"dataframe\">\n",
       "  <thead>\n",
       "    <tr style=\"text-align: right;\">\n",
       "      <th></th>\n",
       "      <th>Text</th>\n",
       "      <th>Label</th>\n",
       "    </tr>\n",
       "  </thead>\n",
       "  <tbody>\n",
       "    <tr>\n",
       "      <th>2613</th>\n",
       "      <td>I honestly think Gonzaga would beat UK as bad ...</td>\n",
       "      <td>0</td>\n",
       "    </tr>\n",
       "    <tr>\n",
       "      <th>3103</th>\n",
       "      <td>Looks like the kinda place China would come in...</td>\n",
       "      <td>0</td>\n",
       "    </tr>\n",
       "    <tr>\n",
       "      <th>1226</th>\n",
       "      <td>Now call me sexist but this is the woman's res...</td>\n",
       "      <td>1</td>\n",
       "    </tr>\n",
       "    <tr>\n",
       "      <th>3232</th>\n",
       "      <td>What a fucking prick you are. People need to s...</td>\n",
       "      <td>0</td>\n",
       "    </tr>\n",
       "    <tr>\n",
       "      <th>191</th>\n",
       "      <td>Hello....m raj....m with good size and excelle...</td>\n",
       "      <td>1</td>\n",
       "    </tr>\n",
       "  </tbody>\n",
       "</table>\n",
       "</div>"
      ],
      "text/plain": [
       "                                                   Text  Label\n",
       "2613  I honestly think Gonzaga would beat UK as bad ...      0\n",
       "3103  Looks like the kinda place China would come in...      0\n",
       "1226  Now call me sexist but this is the woman's res...      1\n",
       "3232  What a fucking prick you are. People need to s...      0\n",
       "191   Hello....m raj....m with good size and excelle...      1"
      ]
     },
     "execution_count": 31,
     "metadata": {},
     "output_type": "execute_result"
    }
   ],
   "source": [
    "df = df.iloc[np.random.permutation(len(df))]\n",
    "df.head()"
   ]
  },
  {
   "cell_type": "code",
   "execution_count": 32,
   "metadata": {},
   "outputs": [],
   "source": [
    "df.to_csv(\"../Data/Cleaned_Data/Data_3_cleaned.csv\",index=False)"
   ]
  },
  {
   "cell_type": "code",
   "execution_count": null,
   "metadata": {},
   "outputs": [],
   "source": []
  }
 ],
 "metadata": {
  "kernelspec": {
   "display_name": "Python 3",
   "language": "python",
   "name": "python3"
  },
  "language_info": {
   "codemirror_mode": {
    "name": "ipython",
    "version": 3
   },
   "file_extension": ".py",
   "mimetype": "text/x-python",
   "name": "python",
   "nbconvert_exporter": "python",
   "pygments_lexer": "ipython3",
   "version": "3.9.1"
  }
 },
 "nbformat": 4,
 "nbformat_minor": 4
}
